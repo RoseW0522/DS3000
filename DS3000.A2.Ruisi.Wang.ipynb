{
 "cells": [
  {
   "cell_type": "code",
   "execution_count": null,
   "metadata": {},
   "outputs": [],
   "source": [
    "# Ruisi Wang -- Assignment 2\n",
    "# 09/18/2022"
   ]
  },
  {
   "cell_type": "markdown",
   "metadata": {},
   "source": [
    "# DS 3000 - Assignment 2\n",
    "\n",
    "**Student Name**: [Enter your name here]\n",
    "\n",
    "**Date**: [Enter the date]\n",
    "\n",
    "\n",
    "### Submission Instructions\n",
    "Submit this `ipynb` file to canvas.\n",
    "\n",
    "The `ipynb` format stores outputs from the last time you ran the notebook.  (When you open a notebook it has the figures and outputs of the last time you ran it too).  To ensure that your submitted `ipynb` file represents your latest code, make sure to give a fresh run `Kernel > Restart & Run All` just before uploading the `ipynb` file to Canvas.\n",
    "\n",
    "### Academic Integrity\n",
    "\n",
    "**Writing your homework is an individual effort.**  You may discuss general python problems with other students but under no circumstances should you observe another student's code which was written for this assignment, from this year or past years.  Pop into office hours or DM us in MS Teams if you have a specific question about your work or if you would like another pair of eyes or talk through your code.\n",
    "\n",
    "Don't forget to cite websites which helped you solve a problem in a unique way.  You can do this in markdown near the code or with a simple one-line comment. You do not need to cite the official python documentation.\n",
    "\n",
    "**Documentation / style counts for credit**  Please refer to the Pep-8 style, to improve the readability and consistency of your Python code. For more information, read the following article [How to Write Beautiful Python Code With PEP 8](https://realpython.com/python-pep8/) or ask your TA's for tips.\n",
    "\n",
    "**NOTE:<span style='color:red'> Write python expressions to answer ALL questions below and ensure that you use the `print()` function to display the output.</span>** Each question should be answered in a new code cell. For example, your solution for question 1.1 should be in a different code cell from your solution for question 1.2."
   ]
  },
  {
   "cell_type": "markdown",
   "metadata": {},
   "source": [
    "## Question 1: Comparison Operators (2 points)\n",
    "We can use comparison operators to check Python values for equality, inequality, or determine if they are greater or less than each other. The output from these expressions return a boolean value i.e. `True` or `False`. \n",
    "\n",
    "Learning Standards (1 point)\n",
    "\n",
    "Its now your turn to write python expressions, that use comparison operators, for each of the following:\n",
    "1. -3 * 9 not equal to 27\n",
    "2. 100 - 1 smaller than or equal to 10<sup>2</sup>\n",
    "3. `True` equal to `1` \n",
    "4. 'python' equal to 'Python'\n",
    "5. 3 * 35 is bigger than 50\n",
    "\n",
    "Approaching Standards (1 point)\n",
    "* pick one of the comparison options above (2-5), and write a python function that takes in the variable as a parameter.\n",
    "* For example:\n",
    "  * ```python\n",
    "        def my_compare(left, right, scale=-3):\n",
    "           return (scale * left) != right\n",
    "       \n",
    "        print(my_compare(9, 27))\n",
    "    ```\n",
    "* While the function may only have one line, we want you to think about the parameters and how you can pass in values, maybe utilize default values etc. "
   ]
  },
  {
   "cell_type": "code",
   "execution_count": 2,
   "metadata": {},
   "outputs": [
    {
     "data": {
      "text/plain": [
       "True"
      ]
     },
     "execution_count": 2,
     "metadata": {},
     "output_type": "execute_result"
    }
   ],
   "source": [
    "#Write the python expression to answer question 1.1\n",
    "-3 * 9 != 27"
   ]
  },
  {
   "cell_type": "code",
   "execution_count": 3,
   "metadata": {},
   "outputs": [
    {
     "data": {
      "text/plain": [
       "True"
      ]
     },
     "execution_count": 3,
     "metadata": {},
     "output_type": "execute_result"
    }
   ],
   "source": [
    "#Write the python expression to answer question 1.2\n",
    "100 - 1 <= pow(10, 2)"
   ]
  },
  {
   "cell_type": "code",
   "execution_count": 6,
   "metadata": {},
   "outputs": [
    {
     "data": {
      "text/plain": [
       "True"
      ]
     },
     "execution_count": 6,
     "metadata": {},
     "output_type": "execute_result"
    }
   ],
   "source": [
    "#Write the python expression to answer question 1.3\n",
    "True == 1"
   ]
  },
  {
   "cell_type": "code",
   "execution_count": 7,
   "metadata": {},
   "outputs": [
    {
     "data": {
      "text/plain": [
       "False"
      ]
     },
     "execution_count": 7,
     "metadata": {},
     "output_type": "execute_result"
    }
   ],
   "source": [
    "#Write the python expression to answer question 1.4\n",
    "'python' == 'Python'"
   ]
  },
  {
   "cell_type": "code",
   "execution_count": 8,
   "metadata": {},
   "outputs": [
    {
     "data": {
      "text/plain": [
       "True"
      ]
     },
     "execution_count": 8,
     "metadata": {},
     "output_type": "execute_result"
    }
   ],
   "source": [
    "#Write the python expression to answer question 1.5\n",
    "3 * 35 > 50"
   ]
  },
  {
   "cell_type": "code",
   "execution_count": 10,
   "metadata": {},
   "outputs": [
    {
     "name": "stdout",
     "output_type": "stream",
     "text": [
      "True\n"
     ]
    }
   ],
   "source": [
    "#Write your function here with some tests, showing the results!\n",
    "def my_compare(left, right, scale=False):\n",
    "    return (left > right) | scale\n",
    "\n",
    "print(my_compare(3*35, 50))"
   ]
  },
  {
   "cell_type": "markdown",
   "metadata": {},
   "source": [
    "## Question 2: Boolean Operators (1 point)\n",
    "We can use the boolean operators `and`, `or` and `not` to combine multiple expressions that are either `True` or `False`. This allows us to write more advanced python expressions. Its now your turn to use boolean operators to answer each of the questions below. \n",
    "\n",
    "Meets Standards (1 point)\n",
    "\n",
    "Perform the following:\n",
    "- Create a function called `validate_x()` which takes x as input. Inside the function, write boolean expressions to check the following: \n",
    "    1. `x` is bigger than 8 and smaller than 15\n",
    "    2. `x` is smaller than 10 or bigger than 12\n",
    "    3. `x * 3` is divisible by 9 and 7\n",
    "    4. If all three of the conditions are valid above, return True\n",
    "- Test the function by going across a list of values, and applying the function to each value\n",
    "  - Hint: include 9 in the list\n",
    "\n",
    "Print out the results on each item of the list"
   ]
  },
  {
   "cell_type": "code",
   "execution_count": null,
   "metadata": {},
   "outputs": [],
   "source": [
    "#Write the python code to answer question 2"
   ]
  },
  {
   "cell_type": "code",
   "execution_count": 5,
   "metadata": {},
   "outputs": [],
   "source": [
    "def validate_x(x):\n",
    "    require_1 = (x > 8) & (x < 15)\n",
    "    require_2 = (x < 10) | (x > 12)\n",
    "    require_3 = ((x * 3) % 9 == 0) & ((x * 3) % 7 == 0) \n",
    "    if (require_1 & require_2 & require_3):\n",
    "        print(item)\n",
    "    else:\n",
    "        pass\n",
    "\n",
    "lst = [0, 1, 2, 3, 4, 5, 6, 7, 8, 9, 10, 11, 12, 13, 14, 15]\n",
    "for item in lst:\n",
    "    validate_x(item)\n",
    "        \n",
    "# For the given list, this program will return nothing.\n",
    "# It is because no item in the list can be properly applied in all three conditions."
   ]
  },
  {
   "cell_type": "code",
   "execution_count": null,
   "metadata": {},
   "outputs": [],
   "source": []
  },
  {
   "cell_type": "markdown",
   "metadata": {},
   "source": [
    "## Question 3: The Guessing Game (1 point - Exceeds)\n",
    "\n",
    "Exceeds Standards (1 point)\n",
    "\n",
    "Write a program that plays the game of **Guess the Number**. Your program should first choose the number to be guessed by selecting an integer at random between the range of 1 to 50 (inclusive)<sup>†</sup>.  The program should then display the following message:\n",
    "\n",
    " \n",
    "```\n",
    "I'm thinking of a number between 1 and 50. Can you guess the number?\n",
    "Enter your first guess: \n",
    "```\n",
    "\n",
    "The program should allow the user to enter their selected number. If the guess is less than the randomly generated number, display:\n",
    "\n",
    "```\n",
    "Your guess is too low. Try again! \n",
    "```\n",
    "\n",
    "The user should then be allowed to make another attempt. If the guess is greater than the randomly generated number, display:\n",
    "\n",
    "```\n",
    "Your guess is too high. Try again! \n",
    "```\n",
    "\n",
    "If the user guessed the correct number, your program should output the following message and then terminate:\n",
    "```\n",
    "Thats correct!\n",
    "```\n",
    "\n",
    "The program should give the user a maximum of 10 attempts to guess the correct number (Hint: use a loop).\n",
    "\n",
    "\n",
    "<sup>†</sup>**Tip**: you can generate pseudo-random numbers using the `randint()` function.\n",
    "\n",
    "Make sure to divide your concerns into smaller functions (divide-conquer-glue is the heart of most good programming). "
   ]
  },
  {
   "cell_type": "code",
   "execution_count": null,
   "metadata": {},
   "outputs": [],
   "source": [
    "#Write your python code to answer question 3"
   ]
  },
  {
   "cell_type": "code",
   "execution_count": 2,
   "metadata": {},
   "outputs": [
    {
     "name": "stdout",
     "output_type": "stream",
     "text": [
      "I'm thingking of a number between 1 and 50. Can you guess the number?\n",
      "Enter your first guess:20\n",
      "Your guess is too low. Try again!\n",
      "Enter your another guess:40\n",
      "Your guess is too high. Try again!\n",
      "Enter your another guess:30\n",
      "Your guess is too high. Try again!\n",
      "Enter your another guess:25\n",
      "Your guess is too high. Try again!\n",
      "Enter your another guess:23\n",
      "That's correct!\n"
     ]
    }
   ],
   "source": [
    "import random\n",
    "\n",
    "def compare(random, selected, scale=False):\n",
    "    ''' Function: compare\n",
    "        Parameter: two interger and a boolean\n",
    "        Returns: return the comparison result of two integers and return a boolean\n",
    "    '''\n",
    "    if (random < selected):\n",
    "        print(\"Your guess is too high. Try again!\")\n",
    "    elif (random > selected):\n",
    "        print(\"Your guess is too low. Try again!\")\n",
    "    elif (random == selected):\n",
    "        print(\"That's correct!\")\n",
    "        scale = True\n",
    "    else:\n",
    "        pass\n",
    "    return scale\n",
    "\n",
    "def start_game():\n",
    "    ''' Function: start_game\n",
    "        Parameter: None\n",
    "        Returns: return the game result\n",
    "    '''\n",
    "    # randomly select an integer between 1 and 50\n",
    "    random_num = random.randint(1, 50)\n",
    "    \n",
    "    print(\"I'm thingking of a number between 1 and 50. Can you guess the number?\")\n",
    "    selected = int(input(\"Enter your first guess:\"))\n",
    "    \n",
    "    i = 1\n",
    "    while i < 10:\n",
    "        result = compare(random_num, selected)\n",
    "        if (i == 10) | result:\n",
    "            break\n",
    "        else:\n",
    "            selected = int(input(\"Enter your another guess:\"))\n",
    "        i += 1\n",
    "\n",
    "start_game()"
   ]
  },
  {
   "cell_type": "code",
   "execution_count": null,
   "metadata": {},
   "outputs": [],
   "source": []
  },
  {
   "cell_type": "code",
   "execution_count": null,
   "metadata": {},
   "outputs": [],
   "source": []
  }
 ],
 "metadata": {
  "kernelspec": {
   "display_name": "Python 3 (ipykernel)",
   "language": "python",
   "name": "python3"
  },
  "language_info": {
   "codemirror_mode": {
    "name": "ipython",
    "version": 3
   },
   "file_extension": ".py",
   "mimetype": "text/x-python",
   "name": "python",
   "nbconvert_exporter": "python",
   "pygments_lexer": "ipython3",
   "version": "3.9.7"
  }
 },
 "nbformat": 4,
 "nbformat_minor": 4
}
