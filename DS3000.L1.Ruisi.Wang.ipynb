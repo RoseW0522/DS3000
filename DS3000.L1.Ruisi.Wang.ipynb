{
 "cells": [
  {
   "cell_type": "code",
   "execution_count": 16,
   "id": "ff12aafa",
   "metadata": {},
   "outputs": [
    {
     "name": "stdout",
     "output_type": "stream",
     "text": [
      "What's your name?\n",
      "ruisi\n",
      "What's your birth year?\n",
      "lo\n",
      "Please enter a numerical value!\n",
      "What's your name?\n",
      "ruisi\n",
      "What's your birth year?\n",
      "2024\n",
      "ruisi  cannot be born after 2022. Please try again!\n",
      "What's your name?\n",
      "Ruisi\n",
      "What's your birth year?\n",
      "2002\n",
      "Ruisi 's current age is  20 .\n"
     ]
    }
   ],
   "source": [
    "# Ruisi Wang -- Mini Lab 1\n",
    "\n",
    "while True:\n",
    "    \n",
    "    # input a person name\n",
    "    user = input(\"What's your name?\\n\")\n",
    "    \n",
    "    # input birth year of the person \n",
    "    birth_year = input(\"What's your birth year?\\n\")\n",
    "    \n",
    "    # except the non-numeric value error\n",
    "    try:\n",
    "        birth_year = int(birth_year)\n",
    "    except ValueError:\n",
    "        print (\"Please enter a numerical value!\")\n",
    "        continue\n",
    "    \n",
    "    # calculate the current age based on the difference between birth year and current year\n",
    "    if (birth_year <= 2022) and (2022 - birth_year >= 0):\n",
    "        current_age = 2022 - birth_year\n",
    "        print(user, \"'s current age is \", current_age, \".\")\n",
    "        break\n",
    "    else:\n",
    "        print(user, \" cannot be born after 2022. Please try again!\")\n",
    "        continue"
   ]
  }
 ],
 "metadata": {
  "kernelspec": {
   "display_name": "Python 3 (ipykernel)",
   "language": "python",
   "name": "python3"
  },
  "language_info": {
   "codemirror_mode": {
    "name": "ipython",
    "version": 3
   },
   "file_extension": ".py",
   "mimetype": "text/x-python",
   "name": "python",
   "nbconvert_exporter": "python",
   "pygments_lexer": "ipython3",
   "version": "3.9.7"
  }
 },
 "nbformat": 4,
 "nbformat_minor": 5
}
