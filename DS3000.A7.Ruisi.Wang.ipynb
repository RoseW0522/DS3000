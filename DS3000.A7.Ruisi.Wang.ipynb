{
 "cells": [
  {
   "cell_type": "code",
   "execution_count": 107,
   "id": "2c10faf6",
   "metadata": {},
   "outputs": [
    {
     "name": "stdout",
     "output_type": "stream",
     "text": [
      "The data contains 53940 rows and 11 columns.\n"
     ]
    }
   ],
   "source": [
    "## Ruisi Wang -- Assignment 07\n",
    "\n",
    "import pandas as pd\n",
    "import numpy as np\n",
    "import matplotlib.pyplot as plt\n",
    "import seaborn as sns\n",
    "from scipy import stats\n",
    "\n",
    "import warnings\n",
    "warnings.filterwarnings(\"ignore\")\n",
    "\n",
    "## Learning\n",
    "# Load the attached data into a pandas dataframe\n",
    "data = pd.read_csv(\"diamonds.csv\")\n",
    "\n",
    "dims = data.shape\n",
    "print('The data contains {} rows and {} columns.'.format(dims[0], dims[1]))"
   ]
  },
  {
   "cell_type": "code",
   "execution_count": 108,
   "id": "fe6edbd3",
   "metadata": {},
   "outputs": [
    {
     "data": {
      "text/html": [
       "<div>\n",
       "<style scoped>\n",
       "    .dataframe tbody tr th:only-of-type {\n",
       "        vertical-align: middle;\n",
       "    }\n",
       "\n",
       "    .dataframe tbody tr th {\n",
       "        vertical-align: top;\n",
       "    }\n",
       "\n",
       "    .dataframe thead th {\n",
       "        text-align: right;\n",
       "    }\n",
       "</style>\n",
       "<table border=\"1\" class=\"dataframe\">\n",
       "  <thead>\n",
       "    <tr style=\"text-align: right;\">\n",
       "      <th></th>\n",
       "      <th>Unnamed: 0</th>\n",
       "      <th>carat</th>\n",
       "      <th>cut</th>\n",
       "      <th>color</th>\n",
       "      <th>clarity</th>\n",
       "      <th>depth</th>\n",
       "      <th>table</th>\n",
       "      <th>price</th>\n",
       "      <th>x</th>\n",
       "      <th>y</th>\n",
       "      <th>z</th>\n",
       "    </tr>\n",
       "  </thead>\n",
       "  <tbody>\n",
       "    <tr>\n",
       "      <th>0</th>\n",
       "      <td>1</td>\n",
       "      <td>0.23</td>\n",
       "      <td>Ideal</td>\n",
       "      <td>E</td>\n",
       "      <td>SI2</td>\n",
       "      <td>61.5</td>\n",
       "      <td>55.0</td>\n",
       "      <td>326</td>\n",
       "      <td>3.95</td>\n",
       "      <td>3.98</td>\n",
       "      <td>2.43</td>\n",
       "    </tr>\n",
       "    <tr>\n",
       "      <th>1</th>\n",
       "      <td>2</td>\n",
       "      <td>0.21</td>\n",
       "      <td>Premium</td>\n",
       "      <td>E</td>\n",
       "      <td>SI1</td>\n",
       "      <td>59.8</td>\n",
       "      <td>61.0</td>\n",
       "      <td>326</td>\n",
       "      <td>3.89</td>\n",
       "      <td>3.84</td>\n",
       "      <td>2.31</td>\n",
       "    </tr>\n",
       "    <tr>\n",
       "      <th>2</th>\n",
       "      <td>3</td>\n",
       "      <td>0.23</td>\n",
       "      <td>Good</td>\n",
       "      <td>E</td>\n",
       "      <td>VS1</td>\n",
       "      <td>56.9</td>\n",
       "      <td>65.0</td>\n",
       "      <td>327</td>\n",
       "      <td>4.05</td>\n",
       "      <td>4.07</td>\n",
       "      <td>2.31</td>\n",
       "    </tr>\n",
       "    <tr>\n",
       "      <th>3</th>\n",
       "      <td>4</td>\n",
       "      <td>0.29</td>\n",
       "      <td>Premium</td>\n",
       "      <td>I</td>\n",
       "      <td>VS2</td>\n",
       "      <td>62.4</td>\n",
       "      <td>58.0</td>\n",
       "      <td>334</td>\n",
       "      <td>4.20</td>\n",
       "      <td>4.23</td>\n",
       "      <td>2.63</td>\n",
       "    </tr>\n",
       "    <tr>\n",
       "      <th>4</th>\n",
       "      <td>5</td>\n",
       "      <td>0.31</td>\n",
       "      <td>Good</td>\n",
       "      <td>J</td>\n",
       "      <td>SI2</td>\n",
       "      <td>63.3</td>\n",
       "      <td>58.0</td>\n",
       "      <td>335</td>\n",
       "      <td>4.34</td>\n",
       "      <td>4.35</td>\n",
       "      <td>2.75</td>\n",
       "    </tr>\n",
       "  </tbody>\n",
       "</table>\n",
       "</div>"
      ],
      "text/plain": [
       "   Unnamed: 0  carat      cut color clarity  depth  table  price     x     y  \\\n",
       "0           1   0.23    Ideal     E     SI2   61.5   55.0    326  3.95  3.98   \n",
       "1           2   0.21  Premium     E     SI1   59.8   61.0    326  3.89  3.84   \n",
       "2           3   0.23     Good     E     VS1   56.9   65.0    327  4.05  4.07   \n",
       "3           4   0.29  Premium     I     VS2   62.4   58.0    334  4.20  4.23   \n",
       "4           5   0.31     Good     J     SI2   63.3   58.0    335  4.34  4.35   \n",
       "\n",
       "      z  \n",
       "0  2.43  \n",
       "1  2.31  \n",
       "2  2.31  \n",
       "3  2.63  \n",
       "4  2.75  "
      ]
     },
     "execution_count": 108,
     "metadata": {},
     "output_type": "execute_result"
    }
   ],
   "source": [
    "data.head()"
   ]
  },
  {
   "cell_type": "code",
   "execution_count": 109,
   "id": "e9de1edf",
   "metadata": {},
   "outputs": [],
   "source": [
    "df = pd.DataFrame(data)\n",
    "df[['carat', 'price']]\n",
    "df_1 = df[['carat', 'price']]"
   ]
  },
  {
   "cell_type": "code",
   "execution_count": 110,
   "id": "f8ed99d1",
   "metadata": {},
   "outputs": [
    {
     "data": {
      "text/html": [
       "<div>\n",
       "<style scoped>\n",
       "    .dataframe tbody tr th:only-of-type {\n",
       "        vertical-align: middle;\n",
       "    }\n",
       "\n",
       "    .dataframe tbody tr th {\n",
       "        vertical-align: top;\n",
       "    }\n",
       "\n",
       "    .dataframe thead th {\n",
       "        text-align: right;\n",
       "    }\n",
       "</style>\n",
       "<table border=\"1\" class=\"dataframe\">\n",
       "  <thead>\n",
       "    <tr style=\"text-align: right;\">\n",
       "      <th></th>\n",
       "      <th>carat</th>\n",
       "      <th>price</th>\n",
       "    </tr>\n",
       "  </thead>\n",
       "  <tbody>\n",
       "    <tr>\n",
       "      <th>0</th>\n",
       "      <td>0.23</td>\n",
       "      <td>326</td>\n",
       "    </tr>\n",
       "    <tr>\n",
       "      <th>1</th>\n",
       "      <td>0.21</td>\n",
       "      <td>326</td>\n",
       "    </tr>\n",
       "    <tr>\n",
       "      <th>2</th>\n",
       "      <td>0.23</td>\n",
       "      <td>327</td>\n",
       "    </tr>\n",
       "    <tr>\n",
       "      <th>3</th>\n",
       "      <td>0.29</td>\n",
       "      <td>334</td>\n",
       "    </tr>\n",
       "    <tr>\n",
       "      <th>4</th>\n",
       "      <td>0.31</td>\n",
       "      <td>335</td>\n",
       "    </tr>\n",
       "  </tbody>\n",
       "</table>\n",
       "</div>"
      ],
      "text/plain": [
       "   carat  price\n",
       "0   0.23    326\n",
       "1   0.21    326\n",
       "2   0.23    327\n",
       "3   0.29    334\n",
       "4   0.31    335"
      ]
     },
     "execution_count": 110,
     "metadata": {},
     "output_type": "execute_result"
    }
   ],
   "source": [
    "df_1.head()"
   ]
  },
  {
   "cell_type": "code",
   "execution_count": 111,
   "id": "3f2c6e09",
   "metadata": {},
   "outputs": [
    {
     "data": {
      "text/plain": [
       "0.7979397478679852"
      ]
     },
     "execution_count": 111,
     "metadata": {},
     "output_type": "execute_result"
    }
   ],
   "source": [
    "# the mean carat/price\n",
    "df_1['carat'].mean()"
   ]
  },
  {
   "cell_type": "code",
   "execution_count": 112,
   "id": "3f52ee54",
   "metadata": {},
   "outputs": [
    {
     "data": {
      "text/plain": [
       "3932.799721913237"
      ]
     },
     "execution_count": 112,
     "metadata": {},
     "output_type": "execute_result"
    }
   ],
   "source": [
    "df_1['price'].mean()"
   ]
  },
  {
   "cell_type": "code",
   "execution_count": 113,
   "id": "553a4bbe",
   "metadata": {},
   "outputs": [
    {
     "data": {
      "text/plain": [
       "0.7"
      ]
     },
     "execution_count": 113,
     "metadata": {},
     "output_type": "execute_result"
    }
   ],
   "source": [
    "# the median carat/price\n",
    "df_1['carat'].median()"
   ]
  },
  {
   "cell_type": "code",
   "execution_count": 114,
   "id": "6a1142a1",
   "metadata": {},
   "outputs": [
    {
     "data": {
      "text/plain": [
       "2401.0"
      ]
     },
     "execution_count": 114,
     "metadata": {},
     "output_type": "execute_result"
    }
   ],
   "source": [
    "df_1['price'].median()"
   ]
  },
  {
   "cell_type": "code",
   "execution_count": 115,
   "id": "b5d51e08",
   "metadata": {},
   "outputs": [
    {
     "name": "stdout",
     "output_type": "stream",
     "text": [
      "The range of carat is:  4.81\n",
      "The range of price is:  18497\n"
     ]
    }
   ],
   "source": [
    "# calculate the range\n",
    "carat_range = df_1['carat'].max() - df_1['carat'].min()\n",
    "print('The range of carat is: ', carat_range)\n",
    "\n",
    "price_range = df_1['price'].max() - df_1['price'].min()\n",
    "print('The range of price is: ', price_range)"
   ]
  },
  {
   "cell_type": "code",
   "execution_count": 116,
   "id": "6b826a4e",
   "metadata": {},
   "outputs": [
    {
     "name": "stdout",
     "output_type": "stream",
     "text": [
      "The variance of carat is:  0.22468665982273753\n",
      "The variance of price is:  15915629.424300838\n"
     ]
    }
   ],
   "source": [
    "# calculate the variance\n",
    "carat_var = df_1['carat'].var()\n",
    "print('The variance of carat is: ', carat_var)\n",
    "\n",
    "price_var = df_1['price'].var()\n",
    "print('The variance of price is: ', price_var)"
   ]
  },
  {
   "cell_type": "code",
   "execution_count": 117,
   "id": "a2b85f81",
   "metadata": {},
   "outputs": [
    {
     "name": "stdout",
     "output_type": "stream",
     "text": [
      "The std deviation of carat is:  0.47401124440538067\n",
      "The std deviation of price is:  3989.4397381463023\n"
     ]
    }
   ],
   "source": [
    "# calculate the std deviation\n",
    "carat_dev = df_1['carat'].std()\n",
    "print('The std deviation of carat is: ', carat_dev)\n",
    "\n",
    "price_dev = df_1['price'].std()\n",
    "print('The std deviation of price is: ', price_dev)"
   ]
  },
  {
   "cell_type": "code",
   "execution_count": 118,
   "id": "49703760",
   "metadata": {},
   "outputs": [
    {
     "name": "stdout",
     "output_type": "stream",
     "text": [
      "The frequency of carat is:  53940\n",
      "The frequency for each carat: \n",
      " 0.30    2604\n",
      "0.31    2249\n",
      "1.01    2242\n",
      "0.70    1981\n",
      "0.32    1840\n",
      "        ... \n",
      "3.02       1\n",
      "3.65       1\n",
      "3.50       1\n",
      "3.22       1\n",
      "3.11       1\n",
      "Name: carat, Length: 273, dtype: int64\n",
      "The number of unique carat in the data:  273\n",
      "The frequency of price is:  53940\n",
      "The frequency for each price: \n",
      " 605      132\n",
      "802      127\n",
      "625      126\n",
      "828      125\n",
      "776      124\n",
      "        ... \n",
      "8816       1\n",
      "14704      1\n",
      "14699      1\n",
      "14698      1\n",
      "9793       1\n",
      "Name: price, Length: 11602, dtype: int64\n",
      "The number of unique price in the data:  11602\n"
     ]
    }
   ],
   "source": [
    "# obtain the frequency\n",
    "print('The frequency of carat is: ', df_1['carat'].count())\n",
    "print('The frequency for each carat: \\n', df_1['carat'].value_counts())\n",
    "print('The number of unique carat in the data: ', df_1['carat'].nunique())\n",
    "\n",
    "print('The frequency of price is: ', df_1['price'].count())\n",
    "print('The frequency for each price: \\n', df_1['price'].value_counts())\n",
    "print('The number of unique price in the data: ', df_1['price'].nunique())"
   ]
  },
  {
   "cell_type": "code",
   "execution_count": 119,
   "id": "b26da74c",
   "metadata": {},
   "outputs": [
    {
     "data": {
      "text/html": [
       "<div>\n",
       "<style scoped>\n",
       "    .dataframe tbody tr th:only-of-type {\n",
       "        vertical-align: middle;\n",
       "    }\n",
       "\n",
       "    .dataframe tbody tr th {\n",
       "        vertical-align: top;\n",
       "    }\n",
       "\n",
       "    .dataframe thead th {\n",
       "        text-align: right;\n",
       "    }\n",
       "</style>\n",
       "<table border=\"1\" class=\"dataframe\">\n",
       "  <thead>\n",
       "    <tr style=\"text-align: right;\">\n",
       "      <th></th>\n",
       "      <th>carat</th>\n",
       "      <th>price</th>\n",
       "    </tr>\n",
       "  </thead>\n",
       "  <tbody>\n",
       "    <tr>\n",
       "      <th>count</th>\n",
       "      <td>53940.000000</td>\n",
       "      <td>53940.000000</td>\n",
       "    </tr>\n",
       "    <tr>\n",
       "      <th>mean</th>\n",
       "      <td>0.797940</td>\n",
       "      <td>3932.799722</td>\n",
       "    </tr>\n",
       "    <tr>\n",
       "      <th>std</th>\n",
       "      <td>0.474011</td>\n",
       "      <td>3989.439738</td>\n",
       "    </tr>\n",
       "    <tr>\n",
       "      <th>min</th>\n",
       "      <td>0.200000</td>\n",
       "      <td>326.000000</td>\n",
       "    </tr>\n",
       "    <tr>\n",
       "      <th>25%</th>\n",
       "      <td>0.400000</td>\n",
       "      <td>950.000000</td>\n",
       "    </tr>\n",
       "    <tr>\n",
       "      <th>50%</th>\n",
       "      <td>0.700000</td>\n",
       "      <td>2401.000000</td>\n",
       "    </tr>\n",
       "    <tr>\n",
       "      <th>75%</th>\n",
       "      <td>1.040000</td>\n",
       "      <td>5324.250000</td>\n",
       "    </tr>\n",
       "    <tr>\n",
       "      <th>max</th>\n",
       "      <td>5.010000</td>\n",
       "      <td>18823.000000</td>\n",
       "    </tr>\n",
       "  </tbody>\n",
       "</table>\n",
       "</div>"
      ],
      "text/plain": [
       "              carat         price\n",
       "count  53940.000000  53940.000000\n",
       "mean       0.797940   3932.799722\n",
       "std        0.474011   3989.439738\n",
       "min        0.200000    326.000000\n",
       "25%        0.400000    950.000000\n",
       "50%        0.700000   2401.000000\n",
       "75%        1.040000   5324.250000\n",
       "max        5.010000  18823.000000"
      ]
     },
     "execution_count": 119,
     "metadata": {},
     "output_type": "execute_result"
    }
   ],
   "source": [
    "df_1.describe() "
   ]
  },
  {
   "cell_type": "code",
   "execution_count": 120,
   "id": "a98c40d0",
   "metadata": {},
   "outputs": [],
   "source": [
    "# Summary\n",
    "# The summary statistics shows that the two columns/variables are: carat and price.\n",
    "\n",
    "# The minimum carat is 0.20 carat, the maximum carat is 5.01 carat \n",
    "# and the average carat of our sample is 0.80 carat and the standard deviation is 0.47. \n",
    "\n",
    "# The median carat is represented by the 50% statistic and it is 0.70. \n",
    "# The mean and median are approximately the same, so we can expect a symmetric curve when this data is visualized.\n",
    "\n",
    "# The minimum and maximum values for the price are 326.00 and 18823.00 dollars.\n",
    "# The average price is 3932.80 and the standard deviation is 3989.44.\n",
    "# We can see that the median price is 2401.00 which is not approximately the same as the mean and it is 3932.80.\n",
    "\n",
    "# Based on the summary statistics, \n",
    "# the range of values appear to be suitable only for carat but not price,\n",
    "# and we can see there is a positive relationship between the carat and price.\n",
    "# As the carat of diamond increases, the price of diamond increases."
   ]
  },
  {
   "cell_type": "code",
   "execution_count": 121,
   "id": "3b2acc9e",
   "metadata": {},
   "outputs": [
    {
     "data": {
      "image/png": "[encoded data removed]",
      "text/plain": [
       "<Figure size 432x288 with 1 Axes>"
      ]
     },
     "metadata": {
      "needs_background": "light"
     },
     "output_type": "display_data"
    }
   ],
   "source": [
    "## Approaching\n",
    "# the frequency of diamonds grouped by cut\n",
    "sns.countplot(df['cut'])\n",
    "plt.title(\"The Frequency of Diamonds Grouped by Cut\")\n",
    "plt.show()\n",
    "\n",
    "# We can now see that the frequency of the different cuts is arranged in the bar plot. \n",
    "# The cut having highest counting in these diamonds is 'ideal', which is the best cut."
   ]
  },
  {
   "cell_type": "code",
   "execution_count": 122,
   "id": "0ea37d5b",
   "metadata": {},
   "outputs": [
    {
     "data": {
      "image/png": "[encoded data removed]",
      "text/plain": [
       "<Figure size 432x288 with 1 Axes>"
      ]
     },
     "metadata": {
      "needs_background": "light"
     },
     "output_type": "display_data"
    }
   ],
   "source": [
    "# the relationship between carat and price\n",
    "sns.scatterplot(data=df, x='carat', y='price')\n",
    "plt.title(\"The Relationship between Carat and price\")\n",
    "plt.show()\n",
    "\n",
    "# We can directly see the relationship between carat and price is positive.\n",
    "# It is because as the carat increases, the price increases."
   ]
  },
  {
   "cell_type": "code",
   "execution_count": 123,
   "id": "7004869b",
   "metadata": {},
   "outputs": [
    {
     "name": "stdout",
     "output_type": "stream",
     "text": [
      "The correlation coefficient is:  0.921591301193484\n",
      "The p-value is:  0.0\n"
     ]
    }
   ],
   "source": [
    "## Meets\n",
    "# Calculate the Pearson Correlation coefficient of carat and price.\n",
    "corr, p_value = stats.pearsonr(df['carat'], df['price'])\n",
    "print('The correlation coefficient is: ', corr)\n",
    "print('The p-value is: ', p_value)\n",
    "\n",
    "# The result indicate that the correlation coefficient is 0.922, which is a strong positive correlation. \n",
    "# The p-value reveals that its unlikely that this pattern would appear if no correlation was evident."
   ]
  },
  {
   "cell_type": "code",
   "execution_count": 124,
   "id": "c4bdf879",
   "metadata": {},
   "outputs": [
    {
     "data": {
      "image/png": "[encoded data removed]",
      "text/plain": [
       "<Figure size 432x288 with 1 Axes>"
      ]
     },
     "metadata": {
      "needs_background": "light"
     },
     "output_type": "display_data"
    }
   ],
   "source": [
    "# Create a histogram (or boxplot) that shows the distribution of prices based on the quality of the cut. \n",
    "sns.boxplot(x=df[\"cut\"], y=df[\"price\"])\n",
    "plt.title(\"The Distribution of Prices Based on the Quality of the Cut\")\n",
    "plt.show()\n",
    "\n",
    "# The boxplot shows the relationship between each cut category and their prices.\n",
    "# The horizontal vertices at the bottom and top of each vertical line of a box represent that category’s minimum and maximum prices. \n",
    "# The bottom and top edges of boxes represent the 25th and 75th percentiles.\n",
    "\n",
    "# The bottom edge of the first box shows that 25% of ideal-cut diamonds cost less than about $500, \n",
    "# while the top edge says that 75% of diamonds cost less than about $11,000.\n",
    "\n",
    "# The bottom edge of the second box shows that 25% of premium-cut diamonds cost less than about $500, \n",
    "# while the top edge says that 75% of diamonds cost less than about $14,500.\n",
    "\n",
    "# The bottom edge of the third box shows that 25% of good-cut diamonds cost less than about $500, \n",
    "# while the top edge says that 75% of diamonds cost less than about $11,500.\n",
    "\n",
    "# The bottom edge of the forth box shows that 25% of good-cut diamonds cost less than about $500, \n",
    "# while the top edge says that 75% of diamonds cost less than about $12,000.\n",
    "\n",
    "# The bottom edge of the fifth box shows that 25% of good-cut diamonds cost less than about $500, \n",
    "# while the top edge says that 75% of diamonds cost less than about $10,000.\n",
    "\n",
    "# The mean and median shown in each box are not approximately the same,\n",
    "# so we cannot expect a symmetric curve when this data is visualized.\n",
    "# Causing median is always less than mean, the data is positive skew."
   ]
  },
  {
   "cell_type": "code",
   "execution_count": 125,
   "id": "c99e8215",
   "metadata": {},
   "outputs": [],
   "source": [
    "## Exceeds\n",
    "# two sample t-test\n",
    "# determine if there is a statistical difference between the price of diamonds with a cut\n",
    "\n",
    "# extract the data for 'Good' vs 'Very Good'\n",
    "good = df[df['cut'] == 'Good']['price']\n",
    "veryGood = df[df['cut'] == 'Very Good']['price']\n",
    "\n",
    "# perform the t-test\n",
    "alpha = 0.05\n",
    "t_stat_1, p_value_1 = stats.ttest_ind(good, veryGood)\n",
    "\n",
    "# compare the p_value with alpha to determine the significance\n",
    "if(p_value_1 < alpha):\n",
    "    print('The price of good-cut diamonds and very-good-cut diamonds are statistically different.')"
   ]
  },
  {
   "cell_type": "code",
   "execution_count": 126,
   "id": "a43ccf67",
   "metadata": {},
   "outputs": [
    {
     "name": "stdout",
     "output_type": "stream",
     "text": [
      "The price of premoium-cut diamonds and ideal-cut diamonds are statistically different.\n"
     ]
    }
   ],
   "source": [
    "# extract the data for 'Premium' vs 'Ideal'\n",
    "premium = df[df['cut'] == 'Premium']['price']\n",
    "ideal = df[df['cut'] == 'Ideal']['price']\n",
    "\n",
    "#perform the t-test\n",
    "alpha = 0.05\n",
    "t_stat_2, p_value_2 = stats.ttest_ind(premium, ideal)\n",
    "\n",
    "# compare the p_value with alpha to determine the significance\n",
    "if(p_value_2 < alpha):\n",
    "    print('The price of premoium-cut diamonds and ideal-cut diamonds are statistically different.')"
   ]
  },
  {
   "cell_type": "code",
   "execution_count": null,
   "id": "79bfec37",
   "metadata": {},
   "outputs": [],
   "source": []
  }
 ],
 "metadata": {
  "kernelspec": {
   "display_name": "Python 3 (ipykernel)",
   "language": "python",
   "name": "python3"
  },
  "language_info": {
   "codemirror_mode": {
    "name": "ipython",
    "version": 3
   },
   "file_extension": ".py",
   "mimetype": "text/x-python",
   "name": "python",
   "nbconvert_exporter": "python",
   "pygments_lexer": "ipython3",
   "version": "3.9.7"
  }
 },
 "nbformat": 4,
 "nbformat_minor": 5
}
